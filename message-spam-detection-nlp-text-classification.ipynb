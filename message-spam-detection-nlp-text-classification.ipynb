{
 "cells": [
  {
   "cell_type": "code",
   "execution_count": 1,
   "id": "sudden-classroom",
   "metadata": {
    "_cell_guid": "b1076dfc-b9ad-4769-8c92-a6c4dae69d19",
    "_uuid": "8f2839f25d086af736a60e9eeb907d3b93b6e0e5",
    "execution": {
     "iopub.execute_input": "2021-07-27T09:45:03.536000Z",
     "iopub.status.busy": "2021-07-27T09:45:03.534208Z",
     "iopub.status.idle": "2021-07-27T09:45:03.554819Z",
     "shell.execute_reply": "2021-07-27T09:45:03.554075Z",
     "shell.execute_reply.started": "2021-07-27T09:35:00.329193Z"
    },
    "papermill": {
     "duration": 0.04765,
     "end_time": "2021-07-27T09:45:03.554975",
     "exception": false,
     "start_time": "2021-07-27T09:45:03.507325",
     "status": "completed"
    },
    "tags": []
   },
   "outputs": [
    {
     "name": "stdout",
     "output_type": "stream",
     "text": [
      "/kaggle/input/sms-spam-collection-dataset/spam.csv\n"
     ]
    }
   ],
   "source": [
    "# This Python 3 environment comes with many helpful analytics libraries installed\n",
    "# It is defined by the kaggle/python Docker image: https://github.com/kaggle/docker-python\n",
    "# For example, here's several helpful packages to load\n",
    "\n",
    "import numpy as np # linear algebra\n",
    "import pandas as pd # data processing, CSV file I/O (e.g. pd.read_csv)\n",
    "\n",
    "# Input data files are available in the read-only \"../input/\" directory\n",
    "# For example, running this (by clicking run or pressing Shift+Enter) will list all files under the input directory\n",
    "\n",
    "import os\n",
    "for dirname, _, filenames in os.walk('/kaggle/input'):\n",
    "    for filename in filenames:\n",
    "        print(os.path.join(dirname, filename))\n",
    "\n",
    "# You can write up to 20GB to the current directory (/kaggle/working/) that gets preserved as output when you create a version using \"Save & Run All\" \n",
    "# You can also write temporary files to /kaggle/temp/, but they won't be saved outside of the current session"
   ]
  },
  {
   "cell_type": "code",
   "execution_count": 2,
   "id": "unsigned-bearing",
   "metadata": {
    "execution": {
     "iopub.execute_input": "2021-07-27T09:45:03.606821Z",
     "iopub.status.busy": "2021-07-27T09:45:03.606013Z",
     "iopub.status.idle": "2021-07-27T09:45:05.460493Z",
     "shell.execute_reply": "2021-07-27T09:45:05.460998Z",
     "shell.execute_reply.started": "2021-07-27T09:44:40.987262Z"
    },
    "papermill": {
     "duration": 1.883375,
     "end_time": "2021-07-27T09:45:05.461238",
     "exception": false,
     "start_time": "2021-07-27T09:45:03.577863",
     "status": "completed"
    },
    "tags": []
   },
   "outputs": [],
   "source": [
    "\n",
    "import nltk\n",
    "#nltk.download()\n",
    "import pandas as pd\n",
    "import seaborn as sns\n",
    "import matplotlib.pyplot as plt\n",
    "\n",
    "from sklearn.feature_extraction.text import CountVectorizer\n",
    "from sklearn.feature_extraction.text import TfidfTransformer\n",
    "from sklearn.pipeline import Pipeline\n",
    "from sklearn.model_selection import train_test_split\n",
    "from sklearn.naive_bayes import MultinomialNB\n",
    "from sklearn.ensemble import RandomForestClassifier\n",
    "from xgboost import XGBClassifier\n",
    "from nltk.corpus import stopwords\n",
    "from nltk.stem.porter import PorterStemmer\n",
    "import string\n",
    "import re\n",
    "from sklearn.svm import SVC\n",
    "\n",
    "from sklearn.metrics import classification_report, confusion_matrix"
   ]
  },
  {
   "cell_type": "markdown",
   "id": "early-consumption",
   "metadata": {
    "papermill": {
     "duration": 0.02233,
     "end_time": "2021-07-27T09:45:05.506038",
     "exception": false,
     "start_time": "2021-07-27T09:45:05.483708",
     "status": "completed"
    },
    "tags": []
   },
   "source": [
    "# Data Loading"
   ]
  },
  {
   "cell_type": "code",
   "execution_count": 3,
   "id": "assigned-burden",
   "metadata": {
    "execution": {
     "iopub.execute_input": "2021-07-27T09:45:05.554840Z",
     "iopub.status.busy": "2021-07-27T09:45:05.553868Z",
     "iopub.status.idle": "2021-07-27T09:45:05.611258Z",
     "shell.execute_reply": "2021-07-27T09:45:05.610761Z",
     "shell.execute_reply.started": "2021-07-27T09:35:24.130436Z"
    },
    "papermill": {
     "duration": 0.083043,
     "end_time": "2021-07-27T09:45:05.611399",
     "exception": false,
     "start_time": "2021-07-27T09:45:05.528356",
     "status": "completed"
    },
    "tags": []
   },
   "outputs": [
    {
     "data": {
      "text/html": [
       "<div>\n",
       "<style scoped>\n",
       "    .dataframe tbody tr th:only-of-type {\n",
       "        vertical-align: middle;\n",
       "    }\n",
       "\n",
       "    .dataframe tbody tr th {\n",
       "        vertical-align: top;\n",
       "    }\n",
       "\n",
       "    .dataframe thead th {\n",
       "        text-align: right;\n",
       "    }\n",
       "</style>\n",
       "<table border=\"1\" class=\"dataframe\">\n",
       "  <thead>\n",
       "    <tr style=\"text-align: right;\">\n",
       "      <th></th>\n",
       "      <th>v1</th>\n",
       "      <th>v2</th>\n",
       "      <th>Unnamed: 2</th>\n",
       "      <th>Unnamed: 3</th>\n",
       "      <th>Unnamed: 4</th>\n",
       "    </tr>\n",
       "  </thead>\n",
       "  <tbody>\n",
       "    <tr>\n",
       "      <th>0</th>\n",
       "      <td>ham</td>\n",
       "      <td>Go until jurong point, crazy.. Available only ...</td>\n",
       "      <td>NaN</td>\n",
       "      <td>NaN</td>\n",
       "      <td>NaN</td>\n",
       "    </tr>\n",
       "    <tr>\n",
       "      <th>1</th>\n",
       "      <td>ham</td>\n",
       "      <td>Ok lar... Joking wif u oni...</td>\n",
       "      <td>NaN</td>\n",
       "      <td>NaN</td>\n",
       "      <td>NaN</td>\n",
       "    </tr>\n",
       "    <tr>\n",
       "      <th>2</th>\n",
       "      <td>spam</td>\n",
       "      <td>Free entry in 2 a wkly comp to win FA Cup fina...</td>\n",
       "      <td>NaN</td>\n",
       "      <td>NaN</td>\n",
       "      <td>NaN</td>\n",
       "    </tr>\n",
       "    <tr>\n",
       "      <th>3</th>\n",
       "      <td>ham</td>\n",
       "      <td>U dun say so early hor... U c already then say...</td>\n",
       "      <td>NaN</td>\n",
       "      <td>NaN</td>\n",
       "      <td>NaN</td>\n",
       "    </tr>\n",
       "    <tr>\n",
       "      <th>4</th>\n",
       "      <td>ham</td>\n",
       "      <td>Nah I don't think he goes to usf, he lives aro...</td>\n",
       "      <td>NaN</td>\n",
       "      <td>NaN</td>\n",
       "      <td>NaN</td>\n",
       "    </tr>\n",
       "  </tbody>\n",
       "</table>\n",
       "</div>"
      ],
      "text/plain": [
       "     v1                                                 v2 Unnamed: 2  \\\n",
       "0   ham  Go until jurong point, crazy.. Available only ...        NaN   \n",
       "1   ham                      Ok lar... Joking wif u oni...        NaN   \n",
       "2  spam  Free entry in 2 a wkly comp to win FA Cup fina...        NaN   \n",
       "3   ham  U dun say so early hor... U c already then say...        NaN   \n",
       "4   ham  Nah I don't think he goes to usf, he lives aro...        NaN   \n",
       "\n",
       "  Unnamed: 3 Unnamed: 4  \n",
       "0        NaN        NaN  \n",
       "1        NaN        NaN  \n",
       "2        NaN        NaN  \n",
       "3        NaN        NaN  \n",
       "4        NaN        NaN  "
      ]
     },
     "execution_count": 3,
     "metadata": {},
     "output_type": "execute_result"
    }
   ],
   "source": [
    "sms=pd.read_csv('/kaggle/input/sms-spam-collection-dataset/spam.csv')\n",
    "sms.head()"
   ]
  },
  {
   "cell_type": "markdown",
   "id": "certain-housing",
   "metadata": {
    "papermill": {
     "duration": 0.023049,
     "end_time": "2021-07-27T09:45:05.657359",
     "exception": false,
     "start_time": "2021-07-27T09:45:05.634310",
     "status": "completed"
    },
    "tags": []
   },
   "source": [
    "# EDA"
   ]
  },
  {
   "cell_type": "code",
   "execution_count": 4,
   "id": "silent-sharp",
   "metadata": {
    "execution": {
     "iopub.execute_input": "2021-07-27T09:45:05.706803Z",
     "iopub.status.busy": "2021-07-27T09:45:05.706221Z",
     "iopub.status.idle": "2021-07-27T09:45:05.726365Z",
     "shell.execute_reply": "2021-07-27T09:45:05.727212Z",
     "shell.execute_reply.started": "2021-07-27T09:35:38.940314Z"
    },
    "papermill": {
     "duration": 0.046736,
     "end_time": "2021-07-27T09:45:05.727389",
     "exception": false,
     "start_time": "2021-07-27T09:45:05.680653",
     "status": "completed"
    },
    "tags": []
   },
   "outputs": [
    {
     "name": "stdout",
     "output_type": "stream",
     "text": [
      "<class 'pandas.core.frame.DataFrame'>\n",
      "RangeIndex: 5572 entries, 0 to 5571\n",
      "Data columns (total 5 columns):\n",
      " #   Column      Non-Null Count  Dtype \n",
      "---  ------      --------------  ----- \n",
      " 0   v1          5572 non-null   object\n",
      " 1   v2          5572 non-null   object\n",
      " 2   Unnamed: 2  50 non-null     object\n",
      " 3   Unnamed: 3  12 non-null     object\n",
      " 4   Unnamed: 4  6 non-null      object\n",
      "dtypes: object(5)\n",
      "memory usage: 217.8+ KB\n"
     ]
    }
   ],
   "source": [
    "sms.info()"
   ]
  },
  {
   "cell_type": "code",
   "execution_count": 5,
   "id": "tutorial-savannah",
   "metadata": {
    "execution": {
     "iopub.execute_input": "2021-07-27T09:45:05.783124Z",
     "iopub.status.busy": "2021-07-27T09:45:05.778583Z",
     "iopub.status.idle": "2021-07-27T09:45:05.824477Z",
     "shell.execute_reply": "2021-07-27T09:45:05.823892Z",
     "shell.execute_reply.started": "2021-07-27T09:35:39.708356Z"
    },
    "papermill": {
     "duration": 0.073768,
     "end_time": "2021-07-27T09:45:05.824614",
     "exception": false,
     "start_time": "2021-07-27T09:45:05.750846",
     "status": "completed"
    },
    "tags": []
   },
   "outputs": [
    {
     "data": {
      "text/html": [
       "<div>\n",
       "<style scoped>\n",
       "    .dataframe tbody tr th:only-of-type {\n",
       "        vertical-align: middle;\n",
       "    }\n",
       "\n",
       "    .dataframe tbody tr th {\n",
       "        vertical-align: top;\n",
       "    }\n",
       "\n",
       "    .dataframe thead th {\n",
       "        text-align: right;\n",
       "    }\n",
       "</style>\n",
       "<table border=\"1\" class=\"dataframe\">\n",
       "  <thead>\n",
       "    <tr style=\"text-align: right;\">\n",
       "      <th></th>\n",
       "      <th>v1</th>\n",
       "      <th>v2</th>\n",
       "      <th>Unnamed: 2</th>\n",
       "      <th>Unnamed: 3</th>\n",
       "      <th>Unnamed: 4</th>\n",
       "    </tr>\n",
       "  </thead>\n",
       "  <tbody>\n",
       "    <tr>\n",
       "      <th>count</th>\n",
       "      <td>5572</td>\n",
       "      <td>5572</td>\n",
       "      <td>50</td>\n",
       "      <td>12</td>\n",
       "      <td>6</td>\n",
       "    </tr>\n",
       "    <tr>\n",
       "      <th>unique</th>\n",
       "      <td>2</td>\n",
       "      <td>5169</td>\n",
       "      <td>43</td>\n",
       "      <td>10</td>\n",
       "      <td>5</td>\n",
       "    </tr>\n",
       "    <tr>\n",
       "      <th>top</th>\n",
       "      <td>ham</td>\n",
       "      <td>Sorry, I'll call later</td>\n",
       "      <td>bt not his girlfrnd... G o o d n i g h t . . .@\"</td>\n",
       "      <td>GE</td>\n",
       "      <td>GNT:-)\"</td>\n",
       "    </tr>\n",
       "    <tr>\n",
       "      <th>freq</th>\n",
       "      <td>4825</td>\n",
       "      <td>30</td>\n",
       "      <td>3</td>\n",
       "      <td>2</td>\n",
       "      <td>2</td>\n",
       "    </tr>\n",
       "  </tbody>\n",
       "</table>\n",
       "</div>"
      ],
      "text/plain": [
       "          v1                      v2  \\\n",
       "count   5572                    5572   \n",
       "unique     2                    5169   \n",
       "top      ham  Sorry, I'll call later   \n",
       "freq    4825                      30   \n",
       "\n",
       "                                               Unnamed: 2 Unnamed: 3  \\\n",
       "count                                                  50         12   \n",
       "unique                                                 43         10   \n",
       "top      bt not his girlfrnd... G o o d n i g h t . . .@\"         GE   \n",
       "freq                                                    3          2   \n",
       "\n",
       "       Unnamed: 4  \n",
       "count           6  \n",
       "unique          5  \n",
       "top       GNT:-)\"  \n",
       "freq            2  "
      ]
     },
     "execution_count": 5,
     "metadata": {},
     "output_type": "execute_result"
    }
   ],
   "source": [
    "sms.describe()"
   ]
  },
  {
   "cell_type": "code",
   "execution_count": 6,
   "id": "jewish-region",
   "metadata": {
    "execution": {
     "iopub.execute_input": "2021-07-27T09:45:05.885826Z",
     "iopub.status.busy": "2021-07-27T09:45:05.884941Z",
     "iopub.status.idle": "2021-07-27T09:45:05.889058Z",
     "shell.execute_reply": "2021-07-27T09:45:05.889598Z",
     "shell.execute_reply.started": "2021-07-27T09:35:40.520254Z"
    },
    "papermill": {
     "duration": 0.041643,
     "end_time": "2021-07-27T09:45:05.889792",
     "exception": false,
     "start_time": "2021-07-27T09:45:05.848149",
     "status": "completed"
    },
    "tags": []
   },
   "outputs": [
    {
     "data": {
      "text/plain": [
       "v1               0\n",
       "v2               0\n",
       "Unnamed: 2    5522\n",
       "Unnamed: 3    5560\n",
       "Unnamed: 4    5566\n",
       "dtype: int64"
      ]
     },
     "execution_count": 6,
     "metadata": {},
     "output_type": "execute_result"
    }
   ],
   "source": [
    "sms.isnull().sum()"
   ]
  },
  {
   "cell_type": "code",
   "execution_count": 7,
   "id": "dominant-number",
   "metadata": {
    "execution": {
     "iopub.execute_input": "2021-07-27T09:45:05.960934Z",
     "iopub.status.busy": "2021-07-27T09:45:05.960336Z",
     "iopub.status.idle": "2021-07-27T09:45:05.973931Z",
     "shell.execute_reply": "2021-07-27T09:45:05.972947Z",
     "shell.execute_reply.started": "2021-07-27T09:35:41.337767Z"
    },
    "papermill": {
     "duration": 0.051186,
     "end_time": "2021-07-27T09:45:05.974174",
     "exception": false,
     "start_time": "2021-07-27T09:45:05.922988",
     "status": "completed"
    },
    "tags": []
   },
   "outputs": [
    {
     "data": {
      "text/plain": [
       "v1    0\n",
       "v2    0\n",
       "dtype: int64"
      ]
     },
     "execution_count": 7,
     "metadata": {},
     "output_type": "execute_result"
    }
   ],
   "source": [
    "sms=sms.drop(['Unnamed: 2','Unnamed: 3','Unnamed: 4'],axis=1)\n",
    "sms.isnull().sum()"
   ]
  },
  {
   "cell_type": "code",
   "execution_count": 8,
   "id": "tight-sampling",
   "metadata": {
    "execution": {
     "iopub.execute_input": "2021-07-27T09:45:06.036713Z",
     "iopub.status.busy": "2021-07-27T09:45:06.035920Z",
     "iopub.status.idle": "2021-07-27T09:45:06.039078Z",
     "shell.execute_reply": "2021-07-27T09:45:06.039556Z",
     "shell.execute_reply.started": "2021-07-27T09:35:42.567531Z"
    },
    "papermill": {
     "duration": 0.03838,
     "end_time": "2021-07-27T09:45:06.039734",
     "exception": false,
     "start_time": "2021-07-27T09:45:06.001354",
     "status": "completed"
    },
    "tags": []
   },
   "outputs": [
    {
     "data": {
      "text/html": [
       "<div>\n",
       "<style scoped>\n",
       "    .dataframe tbody tr th:only-of-type {\n",
       "        vertical-align: middle;\n",
       "    }\n",
       "\n",
       "    .dataframe tbody tr th {\n",
       "        vertical-align: top;\n",
       "    }\n",
       "\n",
       "    .dataframe thead th {\n",
       "        text-align: right;\n",
       "    }\n",
       "</style>\n",
       "<table border=\"1\" class=\"dataframe\">\n",
       "  <thead>\n",
       "    <tr style=\"text-align: right;\">\n",
       "      <th></th>\n",
       "      <th>label</th>\n",
       "      <th>text</th>\n",
       "    </tr>\n",
       "  </thead>\n",
       "  <tbody>\n",
       "    <tr>\n",
       "      <th>0</th>\n",
       "      <td>ham</td>\n",
       "      <td>Go until jurong point, crazy.. Available only ...</td>\n",
       "    </tr>\n",
       "    <tr>\n",
       "      <th>1</th>\n",
       "      <td>ham</td>\n",
       "      <td>Ok lar... Joking wif u oni...</td>\n",
       "    </tr>\n",
       "    <tr>\n",
       "      <th>2</th>\n",
       "      <td>spam</td>\n",
       "      <td>Free entry in 2 a wkly comp to win FA Cup fina...</td>\n",
       "    </tr>\n",
       "    <tr>\n",
       "      <th>3</th>\n",
       "      <td>ham</td>\n",
       "      <td>U dun say so early hor... U c already then say...</td>\n",
       "    </tr>\n",
       "    <tr>\n",
       "      <th>4</th>\n",
       "      <td>ham</td>\n",
       "      <td>Nah I don't think he goes to usf, he lives aro...</td>\n",
       "    </tr>\n",
       "  </tbody>\n",
       "</table>\n",
       "</div>"
      ],
      "text/plain": [
       "  label                                               text\n",
       "0   ham  Go until jurong point, crazy.. Available only ...\n",
       "1   ham                      Ok lar... Joking wif u oni...\n",
       "2  spam  Free entry in 2 a wkly comp to win FA Cup fina...\n",
       "3   ham  U dun say so early hor... U c already then say...\n",
       "4   ham  Nah I don't think he goes to usf, he lives aro..."
      ]
     },
     "execution_count": 8,
     "metadata": {},
     "output_type": "execute_result"
    }
   ],
   "source": [
    "sms=sms.rename({'v1':'label','v2':'text'},axis=1)\n",
    "sms.head()"
   ]
  },
  {
   "cell_type": "code",
   "execution_count": 9,
   "id": "environmental-technique",
   "metadata": {
    "execution": {
     "iopub.execute_input": "2021-07-27T09:45:06.092922Z",
     "iopub.status.busy": "2021-07-27T09:45:06.091998Z",
     "iopub.status.idle": "2021-07-27T09:45:06.243880Z",
     "shell.execute_reply": "2021-07-27T09:45:06.243368Z",
     "shell.execute_reply.started": "2021-07-27T09:35:43.474348Z"
    },
    "papermill": {
     "duration": 0.179788,
     "end_time": "2021-07-27T09:45:06.244021",
     "exception": false,
     "start_time": "2021-07-27T09:45:06.064233",
     "status": "completed"
    },
    "tags": []
   },
   "outputs": [
    {
     "name": "stderr",
     "output_type": "stream",
     "text": [
      "/opt/conda/lib/python3.7/site-packages/seaborn/_decorators.py:43: FutureWarning: Pass the following variable as a keyword arg: x. From version 0.12, the only valid positional argument will be `data`, and passing other arguments without an explicit keyword will result in an error or misinterpretation.\n",
      "  FutureWarning\n"
     ]
    },
    {
     "data": {
      "text/plain": [
       "<AxesSubplot:xlabel='label', ylabel='count'>"
      ]
     },
     "execution_count": 9,
     "metadata": {},
     "output_type": "execute_result"
    },
    {
     "data": {
      "image/png": "[encoded data removed]",
      "text/plain": [
       "<Figure size 432x288 with 1 Axes>"
      ]
     },
     "metadata": {
      "needs_background": "light"
     },
     "output_type": "display_data"
    }
   ],
   "source": [
    "sns.countplot(sms['label'])"
   ]
  },
  {
   "cell_type": "code",
   "execution_count": 10,
   "id": "cheap-ideal",
   "metadata": {
    "execution": {
     "iopub.execute_input": "2021-07-27T09:45:06.306707Z",
     "iopub.status.busy": "2021-07-27T09:45:06.305940Z",
     "iopub.status.idle": "2021-07-27T09:45:06.616326Z",
     "shell.execute_reply": "2021-07-27T09:45:06.615668Z",
     "shell.execute_reply.started": "2021-07-27T09:35:44.530382Z"
    },
    "papermill": {
     "duration": 0.346404,
     "end_time": "2021-07-27T09:45:06.616468",
     "exception": false,
     "start_time": "2021-07-27T09:45:06.270064",
     "status": "completed"
    },
    "tags": []
   },
   "outputs": [
    {
     "name": "stderr",
     "output_type": "stream",
     "text": [
      "/opt/conda/lib/python3.7/site-packages/seaborn/distributions.py:2557: FutureWarning: `distplot` is a deprecated function and will be removed in a future version. Please adapt your code to use either `displot` (a figure-level function with similar flexibility) or `histplot` (an axes-level function for histograms).\n",
      "  warnings.warn(msg, FutureWarning)\n"
     ]
    },
    {
     "data": {
      "text/plain": [
       "<AxesSubplot:xlabel='length', ylabel='Density'>"
      ]
     },
     "execution_count": 10,
     "metadata": {},
     "output_type": "execute_result"
    },
    {
     "data": {
      "image/png": "[encoded data removed]",
      "text/plain": [
       "<Figure size 432x288 with 1 Axes>"
      ]
     },
     "metadata": {
      "needs_background": "light"
     },
     "output_type": "display_data"
    }
   ],
   "source": [
    "sms['length']=sms['text'].apply(lambda x: len(x))\n",
    "sns.distplot(sms['length'], kde=True)"
   ]
  },
  {
   "cell_type": "code",
   "execution_count": 11,
   "id": "unable-gazette",
   "metadata": {
    "execution": {
     "iopub.execute_input": "2021-07-27T09:45:06.679436Z",
     "iopub.status.busy": "2021-07-27T09:45:06.678500Z",
     "iopub.status.idle": "2021-07-27T09:45:06.818519Z",
     "shell.execute_reply": "2021-07-27T09:45:06.817982Z",
     "shell.execute_reply.started": "2021-07-27T09:35:45.606106Z"
    },
    "papermill": {
     "duration": 0.1746,
     "end_time": "2021-07-27T09:45:06.818647",
     "exception": false,
     "start_time": "2021-07-27T09:45:06.644047",
     "status": "completed"
    },
    "tags": []
   },
   "outputs": [
    {
     "data": {
      "text/plain": [
       "<AxesSubplot:xlabel='label', ylabel='length'>"
      ]
     },
     "execution_count": 11,
     "metadata": {},
     "output_type": "execute_result"
    },
    {
     "data": {
      "image/png": "[encoded data removed]",
      "text/plain": [
       "<Figure size 432x288 with 1 Axes>"
      ]
     },
     "metadata": {
      "needs_background": "light"
     },
     "output_type": "display_data"
    }
   ],
   "source": [
    "sns.boxplot(y='length', x='label', data=sms)"
   ]
  },
  {
   "cell_type": "code",
   "execution_count": 12,
   "id": "necessary-cambodia",
   "metadata": {
    "execution": {
     "iopub.execute_input": "2021-07-27T09:45:06.884570Z",
     "iopub.status.busy": "2021-07-27T09:45:06.883428Z",
     "iopub.status.idle": "2021-07-27T09:45:06.893841Z",
     "shell.execute_reply": "2021-07-27T09:45:06.894351Z",
     "shell.execute_reply.started": "2021-07-27T09:35:46.477835Z"
    },
    "papermill": {
     "duration": 0.047558,
     "end_time": "2021-07-27T09:45:06.894535",
     "exception": false,
     "start_time": "2021-07-27T09:45:06.846977",
     "status": "completed"
    },
    "tags": []
   },
   "outputs": [
    {
     "data": {
      "text/html": [
       "<div>\n",
       "<style scoped>\n",
       "    .dataframe tbody tr th:only-of-type {\n",
       "        vertical-align: middle;\n",
       "    }\n",
       "\n",
       "    .dataframe tbody tr th {\n",
       "        vertical-align: top;\n",
       "    }\n",
       "\n",
       "    .dataframe thead th {\n",
       "        text-align: right;\n",
       "    }\n",
       "</style>\n",
       "<table border=\"1\" class=\"dataframe\">\n",
       "  <thead>\n",
       "    <tr style=\"text-align: right;\">\n",
       "      <th></th>\n",
       "      <th>length</th>\n",
       "    </tr>\n",
       "    <tr>\n",
       "      <th>label</th>\n",
       "      <th></th>\n",
       "    </tr>\n",
       "  </thead>\n",
       "  <tbody>\n",
       "    <tr>\n",
       "      <th>ham</th>\n",
       "      <td>71.021347</td>\n",
       "    </tr>\n",
       "    <tr>\n",
       "      <th>spam</th>\n",
       "      <td>138.429719</td>\n",
       "    </tr>\n",
       "  </tbody>\n",
       "</table>\n",
       "</div>"
      ],
      "text/plain": [
       "           length\n",
       "label            \n",
       "ham     71.021347\n",
       "spam   138.429719"
      ]
     },
     "execution_count": 12,
     "metadata": {},
     "output_type": "execute_result"
    }
   ],
   "source": [
    "dt=sms.groupby('label').mean()\n",
    "#sns.barplot(y='length', x='label', data=dt)\n",
    "dt"
   ]
  },
  {
   "cell_type": "code",
   "execution_count": 13,
   "id": "friendly-leeds",
   "metadata": {
    "execution": {
     "iopub.execute_input": "2021-07-27T09:45:06.969469Z",
     "iopub.status.busy": "2021-07-27T09:45:06.960441Z",
     "iopub.status.idle": "2021-07-27T09:45:06.993146Z",
     "shell.execute_reply": "2021-07-27T09:45:06.992556Z",
     "shell.execute_reply.started": "2021-07-27T09:35:47.388582Z"
    },
    "papermill": {
     "duration": 0.068052,
     "end_time": "2021-07-27T09:45:06.993289",
     "exception": false,
     "start_time": "2021-07-27T09:45:06.925237",
     "status": "completed"
    },
    "tags": []
   },
   "outputs": [
    {
     "data": {
      "text/html": [
       "<div>\n",
       "<style scoped>\n",
       "    .dataframe tbody tr th:only-of-type {\n",
       "        vertical-align: middle;\n",
       "    }\n",
       "\n",
       "    .dataframe tbody tr th {\n",
       "        vertical-align: top;\n",
       "    }\n",
       "\n",
       "    .dataframe thead tr th {\n",
       "        text-align: left;\n",
       "    }\n",
       "\n",
       "    .dataframe thead tr:last-of-type th {\n",
       "        text-align: right;\n",
       "    }\n",
       "</style>\n",
       "<table border=\"1\" class=\"dataframe\">\n",
       "  <thead>\n",
       "    <tr>\n",
       "      <th></th>\n",
       "      <th colspan=\"8\" halign=\"left\">length</th>\n",
       "    </tr>\n",
       "    <tr>\n",
       "      <th></th>\n",
       "      <th>count</th>\n",
       "      <th>mean</th>\n",
       "      <th>std</th>\n",
       "      <th>min</th>\n",
       "      <th>25%</th>\n",
       "      <th>50%</th>\n",
       "      <th>75%</th>\n",
       "      <th>max</th>\n",
       "    </tr>\n",
       "    <tr>\n",
       "      <th>label</th>\n",
       "      <th></th>\n",
       "      <th></th>\n",
       "      <th></th>\n",
       "      <th></th>\n",
       "      <th></th>\n",
       "      <th></th>\n",
       "      <th></th>\n",
       "      <th></th>\n",
       "    </tr>\n",
       "  </thead>\n",
       "  <tbody>\n",
       "    <tr>\n",
       "      <th>ham</th>\n",
       "      <td>4825.0</td>\n",
       "      <td>71.021347</td>\n",
       "      <td>58.014768</td>\n",
       "      <td>2.0</td>\n",
       "      <td>33.0</td>\n",
       "      <td>52.0</td>\n",
       "      <td>92.0</td>\n",
       "      <td>910.0</td>\n",
       "    </tr>\n",
       "    <tr>\n",
       "      <th>spam</th>\n",
       "      <td>747.0</td>\n",
       "      <td>138.429719</td>\n",
       "      <td>29.049857</td>\n",
       "      <td>13.0</td>\n",
       "      <td>132.0</td>\n",
       "      <td>149.0</td>\n",
       "      <td>157.0</td>\n",
       "      <td>223.0</td>\n",
       "    </tr>\n",
       "  </tbody>\n",
       "</table>\n",
       "</div>"
      ],
      "text/plain": [
       "       length                                                         \n",
       "        count        mean        std   min    25%    50%    75%    max\n",
       "label                                                                 \n",
       "ham    4825.0   71.021347  58.014768   2.0   33.0   52.0   92.0  910.0\n",
       "spam    747.0  138.429719  29.049857  13.0  132.0  149.0  157.0  223.0"
      ]
     },
     "execution_count": 13,
     "metadata": {},
     "output_type": "execute_result"
    }
   ],
   "source": [
    "sms.groupby('label').describe()"
   ]
  },
  {
   "cell_type": "code",
   "execution_count": 14,
   "id": "unlike-interest",
   "metadata": {
    "execution": {
     "iopub.execute_input": "2021-07-27T09:45:07.060185Z",
     "iopub.status.busy": "2021-07-27T09:45:07.059427Z",
     "iopub.status.idle": "2021-07-27T09:45:07.571862Z",
     "shell.execute_reply": "2021-07-27T09:45:07.571267Z",
     "shell.execute_reply.started": "2021-07-27T09:35:48.474277Z"
    },
    "papermill": {
     "duration": 0.546451,
     "end_time": "2021-07-27T09:45:07.571990",
     "exception": false,
     "start_time": "2021-07-27T09:45:07.025539",
     "status": "completed"
    },
    "tags": []
   },
   "outputs": [
    {
     "name": "stderr",
     "output_type": "stream",
     "text": [
      "/opt/conda/lib/python3.7/site-packages/pandas/plotting/_matplotlib/tools.py:400: MatplotlibDeprecationWarning: \n",
      "The is_first_col function was deprecated in Matplotlib 3.4 and will be removed two minor releases later. Use ax.get_subplotspec().is_first_col() instead.\n",
      "  if ax.is_first_col():\n"
     ]
    },
    {
     "data": {
      "text/plain": [
       "array([<AxesSubplot:title={'center':'ham'}>,\n",
       "       <AxesSubplot:title={'center':'spam'}>], dtype=object)"
      ]
     },
     "execution_count": 14,
     "metadata": {},
     "output_type": "execute_result"
    },
    {
     "data": {
      "image/png": "[encoded data removed]",
      "text/plain": [
       "<Figure size 1440x576 with 2 Axes>"
      ]
     },
     "metadata": {
      "needs_background": "light"
     },
     "output_type": "display_data"
    }
   ],
   "source": [
    "sms.hist(column='length', by='label', bins=50,figsize=(20,8))"
   ]
  },
  {
   "cell_type": "markdown",
   "id": "particular-calgary",
   "metadata": {
    "papermill": {
     "duration": 0.0303,
     "end_time": "2021-07-27T09:45:07.633710",
     "exception": false,
     "start_time": "2021-07-27T09:45:07.603410",
     "status": "completed"
    },
    "tags": []
   },
   "source": [
    "# Data Preprocessing"
   ]
  },
  {
   "cell_type": "code",
   "execution_count": 15,
   "id": "exterior-collection",
   "metadata": {
    "execution": {
     "iopub.execute_input": "2021-07-27T09:45:07.701003Z",
     "iopub.status.busy": "2021-07-27T09:45:07.700405Z",
     "iopub.status.idle": "2021-07-27T09:45:07.702690Z",
     "shell.execute_reply": "2021-07-27T09:45:07.702124Z",
     "shell.execute_reply.started": "2021-07-27T09:36:15.183735Z"
    },
    "papermill": {
     "duration": 0.038225,
     "end_time": "2021-07-27T09:45:07.702816",
     "exception": false,
     "start_time": "2021-07-27T09:45:07.664591",
     "status": "completed"
    },
    "tags": []
   },
   "outputs": [],
   "source": [
    "ps=PorterStemmer()\n",
    "def preprocess(x):\n",
    "    x = x.lower()\n",
    "    x = re.sub(r'[^0-9a-zA-Z]', ' ', x)\n",
    "    x = re.sub(r'\\s+', ' ', x)\n",
    "    l = [item for item in x if item not in string.punctuation]\n",
    "    processed=[ps.stem(i) for i in l if i not in stopwords.words('english')]\n",
    "    return processed\n"
   ]
  },
  {
   "cell_type": "code",
   "execution_count": 16,
   "id": "auburn-experience",
   "metadata": {
    "execution": {
     "iopub.execute_input": "2021-07-27T09:45:07.767428Z",
     "iopub.status.busy": "2021-07-27T09:45:07.766810Z",
     "iopub.status.idle": "2021-07-27T09:45:07.772414Z",
     "shell.execute_reply": "2021-07-27T09:45:07.772882Z",
     "shell.execute_reply.started": "2021-07-27T09:36:16.251319Z"
    },
    "papermill": {
     "duration": 0.039777,
     "end_time": "2021-07-27T09:45:07.773041",
     "exception": false,
     "start_time": "2021-07-27T09:45:07.733264",
     "status": "completed"
    },
    "tags": []
   },
   "outputs": [],
   "source": [
    "X=sms['text']\n",
    "y=sms['label']\n",
    "X_train, X_test, y_train, y_test = train_test_split(X,y,test_size=0.3)"
   ]
  },
  {
   "cell_type": "markdown",
   "id": "integrated-certification",
   "metadata": {
    "papermill": {
     "duration": 0.031279,
     "end_time": "2021-07-27T09:45:07.836097",
     "exception": false,
     "start_time": "2021-07-27T09:45:07.804818",
     "status": "completed"
    },
    "tags": []
   },
   "source": [
    "# Pipeline "
   ]
  },
  {
   "cell_type": "code",
   "execution_count": 17,
   "id": "corresponding-bookmark",
   "metadata": {
    "execution": {
     "iopub.execute_input": "2021-07-27T09:45:07.901877Z",
     "iopub.status.busy": "2021-07-27T09:45:07.901270Z",
     "iopub.status.idle": "2021-07-27T09:45:07.908792Z",
     "shell.execute_reply": "2021-07-27T09:45:07.908184Z",
     "shell.execute_reply.started": "2021-07-27T09:37:03.888135Z"
    },
    "papermill": {
     "duration": 0.041698,
     "end_time": "2021-07-27T09:45:07.908923",
     "exception": false,
     "start_time": "2021-07-27T09:45:07.867225",
     "status": "completed"
    },
    "tags": []
   },
   "outputs": [],
   "source": [
    "def model(model_name,X_train,y_train,X_test,y_test):\n",
    "    pipeline=Pipeline([\n",
    "    ('bow', CountVectorizer(analyzer=preprocess)),\n",
    "    ('tfidf', TfidfTransformer()),\n",
    "    ('model', model_name),\n",
    "    ])\n",
    "    pipeline.fit(X_train,y_train)\n",
    "\n",
    "    preds=pipeline.predict(X_test)\n",
    "\n",
    "    print (classification_report(y_test,preds))\n",
    "    print (confusion_matrix(y_test,preds))\n",
    "    print('Accuracy:', pipeline.score(X_test, y_test)*100)\n",
    "    print(\"Training Score:\",pipeline.score(X_train,y_train)*100)\n",
    "    from sklearn.metrics import accuracy_score\n",
    "    score = accuracy_score(y_test,preds)\n",
    "    print(score)\n"
   ]
  },
  {
   "cell_type": "markdown",
   "id": "alpha-authority",
   "metadata": {
    "papermill": {
     "duration": 0.031658,
     "end_time": "2021-07-27T09:45:07.973032",
     "exception": false,
     "start_time": "2021-07-27T09:45:07.941374",
     "status": "completed"
    },
    "tags": []
   },
   "source": [
    "MultinomialNB "
   ]
  },
  {
   "cell_type": "code",
   "execution_count": 18,
   "id": "absent-mirror",
   "metadata": {
    "execution": {
     "iopub.execute_input": "2021-07-27T09:45:08.039256Z",
     "iopub.status.busy": "2021-07-27T09:45:08.038647Z",
     "iopub.status.idle": "2021-07-27T09:46:57.477201Z",
     "shell.execute_reply": "2021-07-27T09:46:57.477752Z",
     "shell.execute_reply.started": "2021-07-27T09:37:57.485402Z"
    },
    "papermill": {
     "duration": 109.473518,
     "end_time": "2021-07-27T09:46:57.477953",
     "exception": false,
     "start_time": "2021-07-27T09:45:08.004435",
     "status": "completed"
    },
    "tags": []
   },
   "outputs": [
    {
     "name": "stdout",
     "output_type": "stream",
     "text": [
      "              precision    recall  f1-score   support\n",
      "\n",
      "         ham       0.96      0.99      0.98      1452\n",
      "        spam       0.95      0.73      0.83       220\n",
      "\n",
      "    accuracy                           0.96      1672\n",
      "   macro avg       0.96      0.86      0.90      1672\n",
      "weighted avg       0.96      0.96      0.96      1672\n",
      "\n",
      "[[1444    8]\n",
      " [  59  161]]\n",
      "Accuracy: 95.99282296650718\n",
      "Training Score: 96.38461538461539\n",
      "0.9599282296650717\n"
     ]
    }
   ],
   "source": [
    "model_name=MultinomialNB()\n",
    "model(model_name,X_train,y_train,X_test,y_test)"
   ]
  },
  {
   "cell_type": "markdown",
   "id": "beginning-start",
   "metadata": {
    "papermill": {
     "duration": 0.031894,
     "end_time": "2021-07-27T09:46:57.541711",
     "exception": false,
     "start_time": "2021-07-27T09:46:57.509817",
     "status": "completed"
    },
    "tags": []
   },
   "source": [
    "RF"
   ]
  },
  {
   "cell_type": "code",
   "execution_count": 19,
   "id": "located-ghana",
   "metadata": {
    "execution": {
     "iopub.execute_input": "2021-07-27T09:46:57.611250Z",
     "iopub.status.busy": "2021-07-27T09:46:57.610587Z",
     "iopub.status.idle": "2021-07-27T09:48:47.019235Z",
     "shell.execute_reply": "2021-07-27T09:48:47.019978Z",
     "shell.execute_reply.started": "2021-07-27T09:39:34.012307Z"
    },
    "papermill": {
     "duration": 109.446327,
     "end_time": "2021-07-27T09:48:47.020253",
     "exception": false,
     "start_time": "2021-07-27T09:46:57.573926",
     "status": "completed"
    },
    "tags": []
   },
   "outputs": [
    {
     "name": "stdout",
     "output_type": "stream",
     "text": [
      "              precision    recall  f1-score   support\n",
      "\n",
      "         ham       0.98      1.00      0.99      1452\n",
      "        spam       0.96      0.88      0.92       220\n",
      "\n",
      "    accuracy                           0.98      1672\n",
      "   macro avg       0.97      0.94      0.95      1672\n",
      "weighted avg       0.98      0.98      0.98      1672\n",
      "\n",
      "[[1445    7]\n",
      " [  27  193]]\n",
      "Accuracy: 97.96650717703349\n",
      "Training Score: 100.0\n",
      "0.9796650717703349\n"
     ]
    }
   ],
   "source": [
    "model_name=RandomForestClassifier()\n",
    "model(model_name,X_train,y_train,X_test,y_test)"
   ]
  },
  {
   "cell_type": "markdown",
   "id": "competent-country",
   "metadata": {
    "papermill": {
     "duration": 0.032829,
     "end_time": "2021-07-27T09:48:47.087915",
     "exception": false,
     "start_time": "2021-07-27T09:48:47.055086",
     "status": "completed"
    },
    "tags": []
   },
   "source": [
    "Gradient Boosting"
   ]
  },
  {
   "cell_type": "code",
   "execution_count": 20,
   "id": "mediterranean-distance",
   "metadata": {
    "execution": {
     "iopub.execute_input": "2021-07-27T09:48:47.159813Z",
     "iopub.status.busy": "2021-07-27T09:48:47.159150Z",
     "iopub.status.idle": "2021-07-27T09:50:35.704792Z",
     "shell.execute_reply": "2021-07-27T09:50:35.705324Z",
     "shell.execute_reply.started": "2021-07-27T09:41:10.985043Z"
    },
    "papermill": {
     "duration": 108.584038,
     "end_time": "2021-07-27T09:50:35.705499",
     "exception": false,
     "start_time": "2021-07-27T09:48:47.121461",
     "status": "completed"
    },
    "tags": []
   },
   "outputs": [
    {
     "name": "stdout",
     "output_type": "stream",
     "text": [
      "              precision    recall  f1-score   support\n",
      "\n",
      "         ham       0.98      0.99      0.99      1452\n",
      "        spam       0.94      0.89      0.91       220\n",
      "\n",
      "    accuracy                           0.98      1672\n",
      "   macro avg       0.96      0.94      0.95      1672\n",
      "weighted avg       0.98      0.98      0.98      1672\n",
      "\n",
      "[[1440   12]\n",
      " [  25  195]]\n",
      "Accuracy: 97.78708133971293\n",
      "Training Score: 99.53846153846155\n",
      "0.9778708133971292\n"
     ]
    }
   ],
   "source": [
    "from sklearn.ensemble import GradientBoostingClassifier\n",
    "model_name=GradientBoostingClassifier()\n",
    "model(model_name,X_train,y_train,X_test,y_test)"
   ]
  },
  {
   "cell_type": "markdown",
   "id": "aerial-piano",
   "metadata": {
    "papermill": {
     "duration": 0.033839,
     "end_time": "2021-07-27T09:50:35.773457",
     "exception": false,
     "start_time": "2021-07-27T09:50:35.739618",
     "status": "completed"
    },
    "tags": []
   },
   "source": [
    "XGBoost"
   ]
  },
  {
   "cell_type": "code",
   "execution_count": 21,
   "id": "harmful-alloy",
   "metadata": {
    "execution": {
     "iopub.execute_input": "2021-07-27T09:50:35.846882Z",
     "iopub.status.busy": "2021-07-27T09:50:35.845812Z",
     "iopub.status.idle": "2021-07-27T09:52:25.796717Z",
     "shell.execute_reply": "2021-07-27T09:52:25.797273Z",
     "shell.execute_reply.started": "2021-07-27T09:42:48.086326Z"
    },
    "papermill": {
     "duration": 109.990561,
     "end_time": "2021-07-27T09:52:25.797452",
     "exception": false,
     "start_time": "2021-07-27T09:50:35.806891",
     "status": "completed"
    },
    "tags": []
   },
   "outputs": [
    {
     "name": "stderr",
     "output_type": "stream",
     "text": [
      "/opt/conda/lib/python3.7/site-packages/xgboost/sklearn.py:1146: UserWarning: The use of label encoder in XGBClassifier is deprecated and will be removed in a future release. To remove this warning, do the following: 1) Pass option use_label_encoder=False when constructing XGBClassifier object; and 2) Encode your labels (y) as integers starting with 0, i.e. 0, 1, 2, ..., [num_class - 1].\n",
      "  warnings.warn(label_encoder_deprecation_msg, UserWarning)\n"
     ]
    },
    {
     "name": "stdout",
     "output_type": "stream",
     "text": [
      "[09:51:13] WARNING: ../src/learner.cc:1095: Starting in XGBoost 1.3.0, the default evaluation metric used with the objective 'binary:logistic' was changed from 'error' to 'logloss'. Explicitly set eval_metric if you'd like to restore the old behavior.\n",
      "              precision    recall  f1-score   support\n",
      "\n",
      "         ham       0.98      0.99      0.99      1452\n",
      "        spam       0.96      0.89      0.92       220\n",
      "\n",
      "    accuracy                           0.98      1672\n",
      "   macro avg       0.97      0.94      0.96      1672\n",
      "weighted avg       0.98      0.98      0.98      1672\n",
      "\n",
      "[[1444    8]\n",
      " [  24  196]]\n",
      "Accuracy: 98.08612440191388\n",
      "Training Score: 100.0\n",
      "0.9808612440191388\n"
     ]
    }
   ],
   "source": [
    "model_name=XGBClassifier()\n",
    "model(model_name,X_train,y_train,X_test,y_test)"
   ]
  },
  {
   "cell_type": "markdown",
   "id": "revolutionary-florida",
   "metadata": {
    "papermill": {
     "duration": 0.034774,
     "end_time": "2021-07-27T09:52:25.867256",
     "exception": false,
     "start_time": "2021-07-27T09:52:25.832482",
     "status": "completed"
    },
    "tags": []
   },
   "source": [
    "SVC"
   ]
  },
  {
   "cell_type": "code",
   "execution_count": 22,
   "id": "basic-explorer",
   "metadata": {
    "execution": {
     "iopub.execute_input": "2021-07-27T09:52:25.961493Z",
     "iopub.status.busy": "2021-07-27T09:52:25.960748Z",
     "iopub.status.idle": "2021-07-27T09:54:14.918946Z",
     "shell.execute_reply": "2021-07-27T09:54:14.919488Z",
     "shell.execute_reply.started": "2021-07-27T09:44:23.798032Z"
    },
    "papermill": {
     "duration": 109.009452,
     "end_time": "2021-07-27T09:54:14.919669",
     "exception": false,
     "start_time": "2021-07-27T09:52:25.910217",
     "status": "completed"
    },
    "tags": []
   },
   "outputs": [
    {
     "name": "stdout",
     "output_type": "stream",
     "text": [
      "              precision    recall  f1-score   support\n",
      "\n",
      "         ham       0.97      1.00      0.98      1452\n",
      "        spam       0.97      0.82      0.89       220\n",
      "\n",
      "    accuracy                           0.97      1672\n",
      "   macro avg       0.97      0.91      0.94      1672\n",
      "weighted avg       0.97      0.97      0.97      1672\n",
      "\n",
      "[[1446    6]\n",
      " [  40  180]]\n",
      "Accuracy: 97.24880382775119\n",
      "Training Score: 97.87179487179488\n",
      "0.972488038277512\n"
     ]
    }
   ],
   "source": [
    "model_name=SVC()\n",
    "model(model_name,X_train,y_train,X_test,y_test)"
   ]
  }
 ],
 "metadata": {
  "kernelspec": {
   "display_name": "Python 3",
   "language": "python",
   "name": "python3"
  },
  "language_info": {
   "codemirror_mode": {
    "name": "ipython",
    "version": 3
   },
   "file_extension": ".py",
   "mimetype": "text/x-python",
   "name": "python",
   "nbconvert_exporter": "python",
   "pygments_lexer": "ipython3",
   "version": "3.7.10"
  },
  "papermill": {
   "default_parameters": {},
   "duration": 560.942673,
   "end_time": "2021-07-27T09:54:16.760062",
   "environment_variables": {},
   "exception": null,
   "input_path": "__notebook__.ipynb",
   "output_path": "__notebook__.ipynb",
   "parameters": {},
   "start_time": "2021-07-27T09:44:55.817389",
   "version": "2.3.3"
  }
 },
 "nbformat": 4,
 "nbformat_minor": 5
}
